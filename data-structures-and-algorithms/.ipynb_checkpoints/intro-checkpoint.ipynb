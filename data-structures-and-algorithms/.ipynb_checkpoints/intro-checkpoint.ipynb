{
 "cells": [
  {
   "cell_type": "code",
   "execution_count": 1,
   "id": "3e183ece-e74f-4320-b064-a28b0b042f33",
   "metadata": {},
   "outputs": [
    {
     "name": "stdout",
     "output_type": "stream",
     "text": [
      "\n"
     ]
    }
   ],
   "source": [
    "'''\n",
    "\n",
    "Data Structures - Arrangement of data inside the main memory during the execution of the program,\n",
    "                  so that operations on the data can be done efficiently;\n",
    "                  \n",
    "\n",
    "'''\n",
    "print()"
   ]
  },
  {
   "cell_type": "code",
   "execution_count": 3,
   "id": "d8ea6c30-c1b6-414c-9efb-811c71605f2e",
   "metadata": {},
   "outputs": [
    {
     "name": "stdout",
     "output_type": "stream",
     "text": [
      "\n"
     ]
    }
   ],
   "source": [
    "'''\n",
    "Physical Data Structures\n",
    "--------------------------\n",
    "\n",
    "1. Array - collection of contiguous memory locations\n",
    "    - basic data structure\n",
    "    - fixed size (static)\n",
    "    - can be created in stack or heap\n",
    "    - representation of data is defined by the compiler itself.\n",
    "\n",
    "    \n",
    "2. Linked List\n",
    "    - dynamic data structure\n",
    "    - collection of nodes where each node contains data and link to next node\n",
    "    - variable length\n",
    "    - always created in heap\n",
    "\n",
    "These data structures defines how the memory is organised \n",
    "\n",
    "\n",
    "Logical Data Structures\n",
    "-------------------------\n",
    "\n",
    "Can be implemented using physical data structures.\n",
    "\n",
    "Logical data structures define the diclipline in which the values stored by the physical data structures are utilized.\n",
    "\n",
    "'''\n",
    "print()"
   ]
  },
  {
   "cell_type": "code",
   "execution_count": 1,
   "id": "ba49ed2a-5e8f-4a4b-98bb-83adbc6624c7",
   "metadata": {},
   "outputs": [
    {
     "name": "stdout",
     "output_type": "stream",
     "text": [
      "\n"
     ]
    }
   ],
   "source": [
    "'''\n",
    "\n",
    "DataType - Representation of Data and set of Operations on Data\n",
    "\n",
    "Abstract DataType - Hidding internal details\n",
    "\n",
    "'''\n",
    "print()"
   ]
  },
  {
   "cell_type": "code",
   "execution_count": null,
   "id": "ddf24227-0c44-44fd-becd-624b481728c4",
   "metadata": {},
   "outputs": [],
   "source": []
  }
 ],
 "metadata": {
  "kernelspec": {
   "display_name": "Python 3 (ipykernel)",
   "language": "python",
   "name": "python3"
  },
  "language_info": {
   "codemirror_mode": {
    "name": "ipython",
    "version": 3
   },
   "file_extension": ".py",
   "mimetype": "text/x-python",
   "name": "python",
   "nbconvert_exporter": "python",
   "pygments_lexer": "ipython3",
   "version": "3.11.7"
  }
 },
 "nbformat": 4,
 "nbformat_minor": 5
}
