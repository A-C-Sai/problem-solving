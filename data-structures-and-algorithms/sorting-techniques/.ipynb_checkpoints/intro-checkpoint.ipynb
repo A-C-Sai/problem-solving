{
 "cells": [
  {
   "cell_type": "markdown",
   "id": "46f7c32e-07b5-4684-a655-82b7c6fe1ebd",
   "metadata": {},
   "source": [
    "# Criteria used for Analysing Sorts"
   ]
  },
  {
   "cell_type": "markdown",
   "id": "a46d4f2e-9bb5-4c85-9b01-35d7bd8dbda2",
   "metadata": {},
   "source": [
    "1. Number of comparisons\n",
    "2. Number of swaps\n",
    "3. Adaptive\n",
    "4. Stable (Preserving order of duplicate elements)\n",
    "5. Extra Memory"
   ]
  },
  {
   "cell_type": "code",
   "execution_count": null,
   "id": "10f3c4ce-5a03-4476-b342-33af62d82bba",
   "metadata": {},
   "outputs": [],
   "source": []
  }
 ],
 "metadata": {
  "kernelspec": {
   "display_name": "Python 3 (ipykernel)",
   "language": "python",
   "name": "python3"
  },
  "language_info": {
   "codemirror_mode": {
    "name": "ipython",
    "version": 3
   },
   "file_extension": ".py",
   "mimetype": "text/x-python",
   "name": "python",
   "nbconvert_exporter": "python",
   "pygments_lexer": "ipython3",
   "version": "3.11.7"
  }
 },
 "nbformat": 4,
 "nbformat_minor": 5
}
