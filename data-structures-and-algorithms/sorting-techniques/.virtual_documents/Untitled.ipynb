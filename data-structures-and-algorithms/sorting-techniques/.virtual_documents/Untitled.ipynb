





import numpy as np


def bubble_sort(array):
 
    # for array of n elements (n-1) passes are required
    for i in range(array.shape[0]-1):
        
        swap_done = 0 
        
        # for each successive pass, the number of comparisons is reduced by 1
        for j in range(array.shape[0]-1-i):

            '''
                >: for ascending order
                <: for descending order
            '''
            if array[j] > array[j+1]:
                array[j], array[j+1] = array[j+1], array[j]
                swap_done = 1

        # Adaptive
        if swap_done == 0:
            break # if no swaps have been done in a pass, the array is sorted and we don't need to sort any longer

    return 
        
        
    





A = np.array([10,5,7,3,9,6,20,15])
A


bubble_sort(A)


A



