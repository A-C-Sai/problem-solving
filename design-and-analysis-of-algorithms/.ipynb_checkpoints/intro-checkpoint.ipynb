{
 "cells": [
  {
   "cell_type": "code",
   "execution_count": 1,
   "id": "02f8afe9-a0e3-4766-a5d3-74928a418693",
   "metadata": {},
   "outputs": [
    {
     "name": "stdout",
     "output_type": "stream",
     "text": [
      "\n"
     ]
    }
   ],
   "source": [
    "'''\n",
    "Algorithm - step by step procedure for solving computational problem.\n",
    "\n",
    "Algorithms are written at design time (pseudo-code) (independent of H/W and OS) (priori analysis)\n",
    "while program is written at implementation time (specific language) (dependent on H/W and OS) (program testing).\n",
    "'''\n",
    "print()"
   ]
  },
  {
   "cell_type": "code",
   "execution_count": 3,
   "id": "1e87c497-74fb-4d2c-86da-97c3285d9eca",
   "metadata": {},
   "outputs": [
    {
     "name": "stdout",
     "output_type": "stream",
     "text": [
      "\n"
     ]
    }
   ],
   "source": [
    "'''\n",
    "Characteristics of Algorithm:\n",
    "\n",
    "1. 0 or more Inputs\n",
    "2. at leasr 1 Output\n",
    "3. Definiteness (unambigious set of instructions)\n",
    "4. Finiteness (must teriminate in a finite amount of time)\n",
    "5. Effectiveness (no unnecessary instructions/steps)\n",
    "'''\n",
    "print()"
   ]
  },
  {
   "cell_type": "code",
   "execution_count": null,
   "id": "c3d188f0-d2bc-4d1e-88c3-5d1f618fce75",
   "metadata": {},
   "outputs": [],
   "source": []
  }
 ],
 "metadata": {
  "kernelspec": {
   "display_name": "Python 3 (ipykernel)",
   "language": "python",
   "name": "python3"
  },
  "language_info": {
   "codemirror_mode": {
    "name": "ipython",
    "version": 3
   },
   "file_extension": ".py",
   "mimetype": "text/x-python",
   "name": "python",
   "nbconvert_exporter": "python",
   "pygments_lexer": "ipython3",
   "version": "3.11.7"
  }
 },
 "nbformat": 4,
 "nbformat_minor": 5
}
