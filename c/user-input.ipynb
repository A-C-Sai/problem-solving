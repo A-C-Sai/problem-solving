{
 "cells": [
  {
   "cell_type": "code",
   "execution_count": 35,
   "id": "7b5ffd43-84cc-4940-b2f8-d04101c78431",
   "metadata": {},
   "outputs": [
    {
     "name": "stdout",
     "output_type": "stream",
     "text": [
      "Overwriting userInput.c\n"
     ]
    }
   ],
   "source": [
    "%%file userInput.c\n",
    "\n",
    "#include <stdio.h>\n",
    "#include <string.h>\n",
    "int main() \n",
    "{\n",
    "    char name[25];\n",
    "    //scanf(\"%s\", name);\n",
    "    fgets(name, 25, stdin);\n",
    "    name[strlen(name)-1] = '\\0';\n",
    "    \n",
    "    int age;\n",
    "    scanf(\"%d\", &age);\n",
    "\n",
    "    printf(\"Hi %s\\n\", name);\n",
    "    printf(\"You are %d years old\", age);\n",
    "\n",
    "    return 0;\n",
    "}"
   ]
  },
  {
   "cell_type": "code",
   "execution_count": 36,
   "id": "8d225278-4227-48fe-8611-3c1ca9b6be92",
   "metadata": {},
   "outputs": [],
   "source": [
    "%%bash\n",
    "gcc userInput.c -o userInput"
   ]
  },
  {
   "cell_type": "code",
   "execution_count": null,
   "id": "0cdda5ad-cfbb-49b0-9b33-ff4756207bbd",
   "metadata": {},
   "outputs": [],
   "source": []
  },
  {
   "cell_type": "code",
   "execution_count": null,
   "id": "605b2f93-1741-4195-9699-557a844b4388",
   "metadata": {},
   "outputs": [],
   "source": []
  }
 ],
 "metadata": {
  "kernelspec": {
   "display_name": "Python 3 (ipykernel)",
   "language": "python",
   "name": "python3"
  },
  "language_info": {
   "codemirror_mode": {
    "name": "ipython",
    "version": 3
   },
   "file_extension": ".py",
   "mimetype": "text/x-python",
   "name": "python",
   "nbconvert_exporter": "python",
   "pygments_lexer": "ipython3",
   "version": "3.11.7"
  }
 },
 "nbformat": 4,
 "nbformat_minor": 5
}
