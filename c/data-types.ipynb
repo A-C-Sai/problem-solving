{
 "cells": [
  {
   "cell_type": "code",
   "execution_count": null,
   "id": "ee137757-bf31-4ec9-be28-fab1c359c489",
   "metadata": {},
   "outputs": [],
   "source": [
    "'''\n",
    "\n",
    "char a = 'C'; // single character %c\n",
    "char b[] = \"string\"; // array of characters %s\n",
    "\n",
    "float c = 3.141592; // 4 bytes (32 bits of precision) 6-7 digits %f\n",
    "double d = 3.141592653589793; // 8 bytes (64 bits of precision) 15-16 digits %lf\n",
    "\n",
    "bool e = true; // 1 byte (true or false) %d --> #include <stdbool.h>\n",
    "\n",
    "char f = 120; // 1 byte (-128 to +127) %d or %c\n",
    "unsigned char g = 255; // 1 byte (0 to +255) %d or %c\n",
    "\n",
    "short h = 32767; // 2 bytes (-32,768 to +32,767) %d\n",
    "unsigned short i = 65535; // 2 bytes (0 to +65535) %d\n",
    "\n",
    "int j = 2147483647; // 4 bytes (-2,147,483,648 to +2,147,483,647) %d\n",
    "unsigned int k = 4294967295; // 4 bytes (0 to +4,294,967,295) %u\n",
    "\n",
    "long long int l; // 8 bytes (-9 quintillion to +9 quintillion) %lld\n",
    "unsigned long long int m; // 8 bytes (0 to +18 quintillion) %llu\n",
    "\n",
    "'''"
   ]
  }
 ],
 "metadata": {
  "kernelspec": {
   "display_name": "Python 3 (ipykernel)",
   "language": "python",
   "name": "python3"
  },
  "language_info": {
   "codemirror_mode": {
    "name": "ipython",
    "version": 3
   },
   "file_extension": ".py",
   "mimetype": "text/x-python",
   "name": "python",
   "nbconvert_exporter": "python",
   "pygments_lexer": "ipython3",
   "version": "3.11.7"
  }
 },
 "nbformat": 4,
 "nbformat_minor": 5
}
