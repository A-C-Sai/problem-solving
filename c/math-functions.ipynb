{
 "cells": [
  {
   "cell_type": "code",
   "execution_count": null,
   "id": "53028f57-d770-4508-a801-0342071314f9",
   "metadata": {},
   "outputs": [],
   "source": [
    "'''\n",
    "\n",
    "C library <math.h>\n",
    "\n",
    "1. sqrt\n",
    "2. pow\n",
    "3. round\n",
    "4. ceil\n",
    "5. floor\n",
    "6. fabs\n",
    "7. log\n",
    "8. sin\n",
    "9. cos\n",
    "10. tan\n",
    "\n",
    "'''"
   ]
  }
 ],
 "metadata": {
  "kernelspec": {
   "display_name": "Python 3 (ipykernel)",
   "language": "python",
   "name": "python3"
  },
  "language_info": {
   "codemirror_mode": {
    "name": "ipython",
    "version": 3
   },
   "file_extension": ".py",
   "mimetype": "text/x-python",
   "name": "python",
   "nbconvert_exporter": "python",
   "pygments_lexer": "ipython3",
   "version": "3.11.7"
  }
 },
 "nbformat": 4,
 "nbformat_minor": 5
}
