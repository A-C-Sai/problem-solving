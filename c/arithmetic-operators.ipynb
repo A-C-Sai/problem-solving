{
 "cells": [
  {
   "cell_type": "code",
   "execution_count": null,
   "id": "f0514771-bd32-4f9d-9e27-9732e33b9d5b",
   "metadata": {},
   "outputs": [],
   "source": [
    "'''\n",
    "+ (addition)\n",
    "- (subtraction)\n",
    "* (multiplication)\n",
    "/ (division)\n",
    "% (modulus)\n",
    "++ increment\n",
    "-- decrement\n",
    "'''"
   ]
  }
 ],
 "metadata": {
  "kernelspec": {
   "display_name": "Python 3 (ipykernel)",
   "language": "python",
   "name": "python3"
  },
  "language_info": {
   "codemirror_mode": {
    "name": "ipython",
    "version": 3
   },
   "file_extension": ".py",
   "mimetype": "text/x-python",
   "name": "python",
   "nbconvert_exporter": "python",
   "pygments_lexer": "ipython3",
   "version": "3.11.7"
  }
 },
 "nbformat": 4,
 "nbformat_minor": 5
}
