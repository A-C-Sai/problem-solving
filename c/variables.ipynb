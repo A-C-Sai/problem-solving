{
 "cells": [
  {
   "cell_type": "code",
   "execution_count": null,
   "id": "b06a1eea-f172-4f08-a3f1-0c4401dfb3b6",
   "metadata": {},
   "outputs": [],
   "source": [
    "'''\n",
    "Variable - Allocated space in memory to store a value.\n",
    "           We refer to a variable's name to access the stored value.\n",
    "           That variable now behaves as if it was the value it contains.\n",
    "           But we need to declare what type of data we are storing.\n",
    "\n",
    "           declariation + initialization.\n",
    "\n",
    "constant - fixed value that cannot be altered by the program during its execution\n",
    "\n",
    "const <data_type> <varname> VAR = value;\n",
    "'''"
   ]
  }
 ],
 "metadata": {
  "kernelspec": {
   "display_name": "Python 3 (ipykernel)",
   "language": "python",
   "name": "python3"
  },
  "language_info": {
   "codemirror_mode": {
    "name": "ipython",
    "version": 3
   },
   "file_extension": ".py",
   "mimetype": "text/x-python",
   "name": "python",
   "nbconvert_exporter": "python",
   "pygments_lexer": "ipython3",
   "version": "3.11.7"
  }
 },
 "nbformat": 4,
 "nbformat_minor": 5
}
