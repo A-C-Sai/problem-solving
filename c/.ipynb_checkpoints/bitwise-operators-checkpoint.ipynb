{
 "cells": [
  {
   "cell_type": "code",
   "execution_count": null,
   "id": "72cac2f5-ac3d-4dd7-a478-df78b25e2f74",
   "metadata": {},
   "outputs": [],
   "source": [
    "'''\n",
    "\n",
    "Bitwise operators - special operators used in bit level programming\n",
    "\n",
    "& - AND\n",
    "| - OR\n",
    "^ - XOR\n",
    "<< - left shift \n",
    ">> - right shift\n",
    "~ - complement operator\n",
    "\n",
    "'''"
   ]
  }
 ],
 "metadata": {
  "kernelspec": {
   "display_name": "Python 3 (ipykernel)",
   "language": "python",
   "name": "python3"
  },
  "language_info": {
   "codemirror_mode": {
    "name": "ipython",
    "version": 3
   },
   "file_extension": ".py",
   "mimetype": "text/x-python",
   "name": "python",
   "nbconvert_exporter": "python",
   "pygments_lexer": "ipython3",
   "version": "3.11.7"
  }
 },
 "nbformat": 4,
 "nbformat_minor": 5
}
