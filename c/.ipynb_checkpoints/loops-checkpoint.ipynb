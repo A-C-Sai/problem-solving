{
 "cells": [
  {
   "cell_type": "code",
   "execution_count": null,
   "id": "72a13dbb-5744-4441-910e-2bc8d6e856d3",
   "metadata": {},
   "outputs": [],
   "source": [
    "'''\n",
    "\n",
    "for(counter declaration + initialization; loop condition; counter updation) {\n",
    "    statements\n",
    "}\n",
    "\n",
    "\n",
    "while(condition) {\n",
    "    statements\n",
    "}\n",
    "\n",
    "\n",
    "do {\n",
    "    statements\n",
    "} while(condition);\n",
    "\n",
    "We can have nested loops\n",
    "\n",
    "break - exits a loop/switch\n",
    "continue - skips rest of code & forces the next iteration of the loop\n",
    "\n",
    "'''"
   ]
  }
 ],
 "metadata": {
  "kernelspec": {
   "display_name": "Python 3 (ipykernel)",
   "language": "python",
   "name": "python3"
  },
  "language_info": {
   "codemirror_mode": {
    "name": "ipython",
    "version": 3
   },
   "file_extension": ".py",
   "mimetype": "text/x-python",
   "name": "python",
   "nbconvert_exporter": "python",
   "pygments_lexer": "ipython3",
   "version": "3.11.7"
  }
 },
 "nbformat": 4,
 "nbformat_minor": 5
}
