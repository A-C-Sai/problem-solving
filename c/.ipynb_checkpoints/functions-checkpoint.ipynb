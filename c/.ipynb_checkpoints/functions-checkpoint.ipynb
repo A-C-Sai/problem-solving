{
 "cells": [
  {
   "cell_type": "code",
   "execution_count": 11,
   "id": "5c36f62b-a334-4b1d-a44c-0eaeef9f2405",
   "metadata": {},
   "outputs": [
    {
     "name": "stdout",
     "output_type": "stream",
     "text": [
      "Overwriting functions.c\n"
     ]
    }
   ],
   "source": [
    "%%file functions.c\n",
    "\n",
    "#include <stdio.h>\n",
    "\n",
    "void greeting(char name[]);\n",
    "float square(float x);\n",
    "\n",
    "/*\n",
    "\n",
    "    function prototype : function declaration without a budy b4 main()\n",
    "    Ensures that calls to a function are made with the correct arguments\n",
    "    Many C compilers dont check for parameter matching\n",
    "    Missing arguments will result in unexpecte behavior\n",
    "    A function prototype causes the compiler to flag an error if arguments are missing\n",
    "\n",
    "*/\n",
    "\n",
    "int main() {\n",
    "\n",
    "    char *name = \"Sam\"; // can also use char name[]\n",
    "    greeting(name);\n",
    "\n",
    "    double x = square(2.0);\n",
    "    printf(\"%.2f\", x);\n",
    "    \n",
    "    return 0;\n",
    "}\n",
    "\n",
    "void greeting(char *name) // can also use char name[]\n",
    "{\n",
    "    printf(\"Hello %s\\n\", name);    \n",
    "}\n",
    "\n",
    "float square(float x) {\n",
    "    return x*x;\n",
    "}"
   ]
  },
  {
   "cell_type": "code",
   "execution_count": 12,
   "id": "4e39569a-51b0-49f2-bbad-ae11d7732e3a",
   "metadata": {},
   "outputs": [
    {
     "name": "stdout",
     "output_type": "stream",
     "text": [
      "Hello Sam\n",
      "4.00"
     ]
    }
   ],
   "source": [
    "%%bash\n",
    "gcc functions.c -o functions\n",
    "./functions"
   ]
  },
  {
   "cell_type": "code",
   "execution_count": null,
   "id": "887e52cd-5101-4ff7-8608-83b483d76690",
   "metadata": {},
   "outputs": [],
   "source": [
    "'''\n",
    "group of related instructions\n",
    "\n",
    "parameter passing methods:\n",
    "    - pass by value\n",
    "    - pass by address\n",
    "\n",
    "Arrays are always passed by address\n",
    "\n",
    "structures can be passed by value (new object will be created) or passed by address \n",
    "'''"
   ]
  }
 ],
 "metadata": {
  "kernelspec": {
   "display_name": "Python 3 (ipykernel)",
   "language": "python",
   "name": "python3"
  },
  "language_info": {
   "codemirror_mode": {
    "name": "ipython",
    "version": 3
   },
   "file_extension": ".py",
   "mimetype": "text/x-python",
   "name": "python",
   "nbconvert_exporter": "python",
   "pygments_lexer": "ipython3",
   "version": "3.11.7"
  }
 },
 "nbformat": 4,
 "nbformat_minor": 5
}
