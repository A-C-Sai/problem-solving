{
 "cells": [
  {
   "cell_type": "code",
   "execution_count": 20,
   "id": "6d984014-74da-4ddd-ba3f-8e7b5294db91",
   "metadata": {},
   "outputs": [
    {
     "name": "stdout",
     "output_type": "stream",
     "text": [
      "\n"
     ]
    }
   ],
   "source": [
    "'''\n",
    "\n",
    "memory = an array of bytes within RAM\n",
    "memory block = a single unit (byte) within memory, used to hold some value\n",
    "memory address = the address of where a memory block is located\n",
    "\n",
    "each BYTE has an address\n",
    "\n",
    "&var\n",
    "%p\n",
    "\n",
    "Application's memory : || Heap || Stack (function calls and local variables) || Static/Global || Code(Text) (instructions) ||\n",
    "\n",
    "stack overflow - memory reserved for stack doesn't grown during runtime\n",
    "\n",
    "Heap - free pool or memory / dynamic memory \n",
    "\n",
    "'''\n",
    "print()"
   ]
  },
  {
   "cell_type": "code",
   "execution_count": 31,
   "id": "2b8af659-bc23-43f0-8c5e-a3f0f9480c1d",
   "metadata": {},
   "outputs": [
    {
     "name": "stdout",
     "output_type": "stream",
     "text": [
      "Overwriting memory.c\n"
     ]
    }
   ],
   "source": [
    "%%file memory.c\n",
    "#include <stdio.h>\n",
    "int main() {\n",
    "\n",
    "    int n;\n",
    "    printf(\"How many characters would you like to store: \");\n",
    "    scanf(\"%d\",&n);\n",
    "    char A[n];\n",
    "\n",
    "    printf(\"What are the characters you would like to store:\\n\");\n",
    "    for(int i=0;i<n-1;i++) {\n",
    "        printf(\"Enter a character: \");\n",
    "        scanf(\" %c\",A+i);\n",
    "    }\n",
    "    A[n-1] = '\\0';\n",
    "\n",
    "\n",
    "    printf(\"%s\",A);\n",
    "\n",
    "    \n",
    "    return 0;\n",
    "}"
   ]
  },
  {
   "cell_type": "code",
   "execution_count": 32,
   "id": "8e6feaf5-32fb-43a0-842a-3fa9b47ce3a1",
   "metadata": {},
   "outputs": [],
   "source": [
    "%%bash\n",
    "gcc memory.c -o memory"
   ]
  },
  {
   "cell_type": "code",
   "execution_count": 34,
   "id": "b2220429-4935-4370-808a-587c4cffdada",
   "metadata": {},
   "outputs": [
    {
     "name": "stdout",
     "output_type": "stream",
     "text": [
      "\n"
     ]
    }
   ],
   "source": [
    "'''\n",
    "Dynamic Memory Allocation\n",
    "\n",
    "#include <stdlib.h>\n",
    "\n",
    "Allocate block of memory\n",
    "\n",
    "malloc - void* malloc(size_t size) / (dataType)malloc(no. of elements * size of one unit)\n",
    "\n",
    "calloc - void* calloc(size_t num, size_t size) / (dataTypecalloc(no. of elements,size of data types in bytes)  / (dataType)realloc(NULL, size)\n",
    "\n",
    "realloc - void* realloc(void* ptr, size_t size) / (dataType)realloc(ptr, size in bytes)\n",
    "\n",
    "\n",
    "Deallocate block of memory\n",
    "\n",
    "free(pointer) same as int *A = (int*)realloc(A,0);\n",
    "pointer = NULL;\n",
    "\n",
    "\n",
    "'''\n",
    "print()"
   ]
  },
  {
   "cell_type": "code",
   "execution_count": 35,
   "id": "9906eb1e-3556-409f-9e58-d3074ba98222",
   "metadata": {},
   "outputs": [
    {
     "name": "stdout",
     "output_type": "stream",
     "text": [
      "\n"
     ]
    }
   ],
   "source": [
    "'''\n",
    "be careful of memory leak when allocating memory dynamically.\n",
    "'''\n",
    "print()"
   ]
  },
  {
   "cell_type": "code",
   "execution_count": null,
   "id": "e022abfa-c530-435f-9d7b-1ee796a7fe90",
   "metadata": {},
   "outputs": [],
   "source": []
  }
 ],
 "metadata": {
  "kernelspec": {
   "display_name": "Python 3 (ipykernel)",
   "language": "python",
   "name": "python3"
  },
  "language_info": {
   "codemirror_mode": {
    "name": "ipython",
    "version": 3
   },
   "file_extension": ".py",
   "mimetype": "text/x-python",
   "name": "python",
   "nbconvert_exporter": "python",
   "pygments_lexer": "ipython3",
   "version": "3.11.7"
  }
 },
 "nbformat": 4,
 "nbformat_minor": 5
}
