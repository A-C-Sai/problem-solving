{
 "cells": [
  {
   "cell_type": "code",
   "execution_count": 1,
   "id": "23f8d525-2e05-4c73-879e-ef29b1b72d43",
   "metadata": {},
   "outputs": [
    {
     "name": "stdout",
     "output_type": "stream",
     "text": [
      "Writing helloWorld.c\n"
     ]
    }
   ],
   "source": [
    "%%file helloWorld.c\n",
    "\n",
    "#include <stdio.h>\n",
    "int main()\n",
    "{\n",
    "    printf(\"Hello World\");\n",
    "\n",
    "    return 0;\n",
    "}"
   ]
  },
  {
   "cell_type": "code",
   "execution_count": 2,
   "id": "80f64e9f-d7e8-4a8e-8fc5-26a21393b66c",
   "metadata": {},
   "outputs": [],
   "source": [
    "%%bash\n",
    "gcc helloWorld.c -o helloWorld"
   ]
  },
  {
   "cell_type": "code",
   "execution_count": 3,
   "id": "c18b675e-d571-4506-bf41-5480d920786f",
   "metadata": {},
   "outputs": [
    {
     "name": "stdout",
     "output_type": "stream",
     "text": [
      "Hello World"
     ]
    }
   ],
   "source": [
    "%%bash\n",
    "./helloWorld"
   ]
  },
  {
   "cell_type": "code",
   "execution_count": null,
   "id": "5e8ae9d7-f2ae-422e-80ed-afd95facf07d",
   "metadata": {},
   "outputs": [],
   "source": []
  }
 ],
 "metadata": {
  "kernelspec": {
   "display_name": "Python 3 (ipykernel)",
   "language": "python",
   "name": "python3"
  },
  "language_info": {
   "codemirror_mode": {
    "name": "ipython",
    "version": 3
   },
   "file_extension": ".py",
   "mimetype": "text/x-python",
   "name": "python",
   "nbconvert_exporter": "python",
   "pygments_lexer": "ipython3",
   "version": "3.11.7"
  }
 },
 "nbformat": 4,
 "nbformat_minor": 5
}
