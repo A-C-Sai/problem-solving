{
 "cells": [
  {
   "cell_type": "code",
   "execution_count": null,
   "id": "12b30a32-bf5c-4216-87a8-df23a65ba7a3",
   "metadata": {},
   "outputs": [],
   "source": [
    "'''\n",
    "\n",
    "enum, a user defined type of named integer identifiers\n",
    "helps to make a program more readable.\n",
    "\n",
    "#include <stdio.h>\n",
    "\n",
    "enum Day{Sun,Mon,Tue,Wed,Thu,Fri,Sat};\n",
    "\n",
    "int main() {\n",
    "\n",
    "    enum Day Today = Sun;\n",
    "\n",
    "    printf(\"%d\", today); // enums are NOT STRINGS, but they can be treated as int\n",
    "\n",
    "    return 0;\n",
    "}\n",
    "\n",
    "'''"
   ]
  }
 ],
 "metadata": {
  "kernelspec": {
   "display_name": "Python 3 (ipykernel)",
   "language": "python",
   "name": "python3"
  },
  "language_info": {
   "codemirror_mode": {
    "name": "ipython",
    "version": 3
   },
   "file_extension": ".py",
   "mimetype": "text/x-python",
   "name": "python",
   "nbconvert_exporter": "python",
   "pygments_lexer": "ipython3",
   "version": "3.11.7"
  }
 },
 "nbformat": 4,
 "nbformat_minor": 5
}
