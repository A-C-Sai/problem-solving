{
 "cells": [
  {
   "cell_type": "code",
   "execution_count": null,
   "id": "5d2488d9-a7de-4f46-ad7c-2f9a8aac9104",
   "metadata": {},
   "outputs": [],
   "source": [
    "'''\n",
    "\n",
    "array - a data structure that can store many values of the same data type\n",
    "\n",
    "e.g. int prices[] = {1,2,3,4,5};\n",
    "\n",
    "sizeof() --> bytes\n",
    "\n",
    "2D array - an array, where each element is an entire array\n",
    "\n",
    "e.g. int numbers[][3] = {{1,2,3},{4,5,6}};\n",
    "\n",
    "even though this is a 2-D array, during execution the actual memory allocated will be linear.\n",
    "\n",
    "e.g. char cars[][10] = {\"Mustang\", \"Corvette\", \"Camaro\"};\n",
    "\n",
    "cars[0] = \"Tesla\" --> wont work\n",
    "use strcpy(cars[0], \"Tesla\"); from <string.h>\n",
    "\n",
    "'''"
   ]
  }
 ],
 "metadata": {
  "kernelspec": {
   "display_name": "Python 3 (ipykernel)",
   "language": "python",
   "name": "python3"
  },
  "language_info": {
   "codemirror_mode": {
    "name": "ipython",
    "version": 3
   },
   "file_extension": ".py",
   "mimetype": "text/x-python",
   "name": "python",
   "nbconvert_exporter": "python",
   "pygments_lexer": "ipython3",
   "version": "3.11.7"
  }
 },
 "nbformat": 4,
 "nbformat_minor": 5
}
