{
 "cells": [
  {
   "cell_type": "code",
   "execution_count": null,
   "id": "c4fc21da-c314-4e12-b33c-4e7ab155b395",
   "metadata": {},
   "outputs": [],
   "source": [
    "'''\n",
    "if (condition) {\n",
    "    statements\n",
    "}\n",
    "else if (condition) {\n",
    "    statements\n",
    "}\n",
    "else {\n",
    "    statements\n",
    "}\n",
    "'''"
   ]
  }
 ],
 "metadata": {
  "kernelspec": {
   "display_name": "Python 3 (ipykernel)",
   "language": "python",
   "name": "python3"
  },
  "language_info": {
   "codemirror_mode": {
    "name": "ipython",
    "version": 3
   },
   "file_extension": ".py",
   "mimetype": "text/x-python",
   "name": "python",
   "nbconvert_exporter": "python",
   "pygments_lexer": "ipython3",
   "version": "3.11.7"
  }
 },
 "nbformat": 4,
 "nbformat_minor": 5
}
