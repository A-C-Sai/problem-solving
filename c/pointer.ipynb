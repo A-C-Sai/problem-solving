{
 "cells": [
  {
   "cell_type": "code",
   "execution_count": null,
   "id": "ccbfcbff-3f8c-42a2-aa0a-27fd45c454be",
   "metadata": {},
   "outputs": [],
   "source": [
    "'''\n",
    "\n",
    "pointers - variables that store address of another variable\n",
    "\n",
    "pointer - a variable-like reference that holds a memory address to another variable, array, etc.\n",
    "          * = indirection operator (value at address)\n",
    "\n",
    "pointers are used for indirectly accessing the data\n",
    "\n",
    "program can directly access code and stack section. But pointers allows us to access heap/ resources outside the program.\n",
    "\n",
    "whenever we declare anything in our program it will be created inside the stack frame of that function.\n",
    "\n",
    "e.g.\n",
    "\n",
    "int age = 21;\n",
    "int *pAge = &age;\n",
    "      OR\n",
    "int *pAge = NULL;\n",
    "pAge = &age;\n",
    "\n",
    "pAge ---> contains the address at which the variable age is stored at.\n",
    "*pAge/age ---> value at the location/address pAge is pointing to. value at stored address.\n",
    "\n",
    "\n",
    "e.g. \n",
    "\n",
    "#include <stdio.h>\n",
    "#include <stdlib.h>\n",
    "\n",
    "int main() {\n",
    "\n",
    "    int *p;\n",
    "    p = (int *)malloc(5*sizeof(int)); // allocating memory in heap\n",
    "    free(p);\n",
    "    p = NULL;\n",
    "    \n",
    "    int a[5]={1,2,3,4,5};\n",
    "    int *p;\n",
    "    p=A; OR p=&A[0];\n",
    "    \n",
    "    return 0;\n",
    "}\n",
    "\n",
    "'''"
   ]
  }
 ],
 "metadata": {
  "kernelspec": {
   "display_name": "Python 3 (ipykernel)",
   "language": "python",
   "name": "python3"
  },
  "language_info": {
   "codemirror_mode": {
    "name": "ipython",
    "version": 3
   },
   "file_extension": ".py",
   "mimetype": "text/x-python",
   "name": "python",
   "nbconvert_exporter": "python",
   "pygments_lexer": "ipython3",
   "version": "3.11.7"
  }
 },
 "nbformat": 4,
 "nbformat_minor": 5
}
