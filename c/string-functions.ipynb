{
 "cells": [
  {
   "cell_type": "code",
   "execution_count": null,
   "id": "2057efec-0f49-4fd6-b102-4a61f952d4f6",
   "metadata": {},
   "outputs": [],
   "source": [
    "'''\n",
    "\n",
    "C library - <string.h>\n",
    "\n",
    "char string1[];\n",
    "char string2[];\n",
    "\n",
    "1. strlwr(string1) - converts a string to lowercase\n",
    "2. strupr(string1) - converts a string to uppercase\n",
    "3. strcat(string1, string2) - appends string2 to end of string1\n",
    "4. strncat(string1, string2, n) - appends n characters from string2 to string1\n",
    "5. strcpy(string1, string2) - copy string2 to string1\n",
    "6. strncpy(string1, string2, n) - copy n characters of string2 to string1\n",
    "7. strset(string1, '?') - sets all characters of a string to a given character\n",
    "8. strnset(string1, 'x', 1) - set first n characters of a string to a given character\n",
    "9. strrev(string1) - reverses a string\n",
    "10. strlen(string1) - returns string length as int\n",
    "11. strcmp(string1, string2) - string compare all characters\n",
    "12. strncmp(string1, string2, 1) - string compare n characters\n",
    "13. strcmpi(string1, string2) - string compare all (ignore case)\n",
    "14. strnicmp(string1, string2, n) - string compare n characters (ignore case)\n",
    "\n",
    "'''"
   ]
  }
 ],
 "metadata": {
  "kernelspec": {
   "display_name": "Python 3 (ipykernel)",
   "language": "python",
   "name": "python3"
  },
  "language_info": {
   "codemirror_mode": {
    "name": "ipython",
    "version": 3
   },
   "file_extension": ".py",
   "mimetype": "text/x-python",
   "name": "python",
   "nbconvert_exporter": "python",
   "pygments_lexer": "ipython3",
   "version": "3.11.7"
  }
 },
 "nbformat": 4,
 "nbformat_minor": 5
}
