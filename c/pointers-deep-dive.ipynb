{
 "cells": [
  {
   "cell_type": "code",
   "execution_count": 33,
   "id": "9fbeead6-4435-429c-8f29-c9a2dd60960f",
   "metadata": {},
   "outputs": [
    {
     "name": "stdout",
     "output_type": "stream",
     "text": [
      "Overwriting pointers1.c\n"
     ]
    }
   ],
   "source": [
    "%%file pointers1.c\n",
    "#include <stdio.h>\n",
    "int main() {\n",
    "\n",
    "    int a = 10;\n",
    "    int* p = &a;\n",
    "\n",
    "    void* p1 = p;\n",
    "\n",
    "    printf(\"Address of p is %p\\n\", p);\n",
    "    printf(\"size of integer is %lu bytes\\n\", sizeof(int));\n",
    "    printf(\"Address of p+1 is %p\\n\", (p+1)); // pointer arithmetic is dependent on the type of pointer\n",
    "    printf(\"Address of p1 = %p, value at address = %d\", p1, *((int*)p1));\n",
    "    \n",
    "    return 0;\n",
    "}"
   ]
  },
  {
   "cell_type": "code",
   "execution_count": 34,
   "id": "bc3cbf9d-c18c-47f7-83f7-e5208a9005e4",
   "metadata": {},
   "outputs": [
    {
     "name": "stdout",
     "output_type": "stream",
     "text": [
      "Address of p is 0x7ff7bf32c5f8\n",
      "size of integer is 4 bytes\n",
      "Address of p+1 is 0x7ff7bf32c5fc\n",
      "Address of p1 = 0x7ff7bf32c5f8, value at address = 10"
     ]
    }
   ],
   "source": [
    "%%bash\n",
    "gcc pointers1.c -o pointers1\n",
    "./pointers1"
   ]
  },
  {
   "cell_type": "code",
   "execution_count": 20,
   "id": "8d363879-9e40-4d5c-b225-debae7837cd1",
   "metadata": {},
   "outputs": [
    {
     "name": "stdout",
     "output_type": "stream",
     "text": [
      "\n"
     ]
    }
   ],
   "source": [
    "'''\n",
    "             p3 --> p2  --> p1 --> a\n",
    "   address [ 250    230     215    200 ]\n",
    "    value  [ 230    215     200    10  ]\n",
    "'''\n",
    "print()"
   ]
  },
  {
   "cell_type": "code",
   "execution_count": 42,
   "id": "4b8d524e-4999-418b-bb31-a16c7bee4773",
   "metadata": {},
   "outputs": [
    {
     "name": "stdout",
     "output_type": "stream",
     "text": [
      "Overwriting pointerTopointer.c\n"
     ]
    }
   ],
   "source": [
    "%%file pointerTopointer.c\n",
    "#include <stdio.h>\n",
    "int main() {\n",
    "\n",
    "    int a = 10;\n",
    "    int *p1 = &a;\n",
    "    int* *p2 = &p1;\n",
    "    int** *p3 = &p2;\n",
    "\n",
    "    printf(\"Address of a = %p, value at a = %d\\n\",&a,a);\n",
    "    printf(\"Address of p1 = %p, value at p1 = %p\\n\",&p1,p1);\n",
    "    printf(\"Address of p2 = %p, value at p2 = %p\\n\",&p2,p2);\n",
    "    printf(\"Address of p3 = %p, value at p3 = %p\\n\",&p3,p3);\n",
    "\n",
    "    printf(\"p1 to a = %d\\n\",*p1);\n",
    "    printf(\"p2 to p1 = %p, p2 to a = %d\\n\",*p2,*(*p2));\n",
    "    printf(\"p3 to p2 = %p, p3 to p1 = %p, p3 to a = %d\\n\",*p3,*(*p3),*(*(*p3)));\n",
    "    \n",
    "    return 0;\n",
    "}"
   ]
  },
  {
   "cell_type": "code",
   "execution_count": 43,
   "id": "ceb35a70-4cc4-4fd1-92cc-eaa941f7fb50",
   "metadata": {},
   "outputs": [
    {
     "name": "stdout",
     "output_type": "stream",
     "text": [
      "Address of a = 0x7ff7b65845e8, value at a = 10\n",
      "Address of p1 = 0x7ff7b65845e0, value at p1 = 0x7ff7b65845e8\n",
      "Address of p2 = 0x7ff7b65845d8, value at p2 = 0x7ff7b65845e0\n",
      "Address of p3 = 0x7ff7b65845d0, value at p3 = 0x7ff7b65845d8\n",
      "p1 to a = 10\n",
      "p2 to p1 = 0x7ff7b65845e8, p2 to a = 10\n",
      "p3 to p2 = 0x7ff7b65845e0, p3 to p1 = 0x7ff7b65845e8, p3 to a = 10\n"
     ]
    }
   ],
   "source": [
    "%%bash\n",
    "gcc pointerTopointer.c -o pointerTopointer\n",
    "./pointerTopointer"
   ]
  },
  {
   "cell_type": "code",
   "execution_count": 21,
   "id": "ea58cbf1-e27c-49fc-9120-0ca473d5ce60",
   "metadata": {},
   "outputs": [
    {
     "name": "stdout",
     "output_type": "stream",
     "text": [
      "\n"
     ]
    }
   ],
   "source": [
    "'''\n",
    "For an element in an array\n",
    "    Base address is given by the name of the array: A\n",
    "    Address of element: &A[i] OR (A+i)\n",
    "    value: A[i] OR *(A+i)\n",
    "'''\n",
    "print()"
   ]
  },
  {
   "cell_type": "code",
   "execution_count": 22,
   "id": "5a4af10f-444b-4c1a-a490-6034b8821c2b",
   "metadata": {},
   "outputs": [
    {
     "name": "stdout",
     "output_type": "stream",
     "text": [
      "\n"
     ]
    }
   ],
   "source": [
    "'''\n",
    "\n",
    "1) How to store strings\n",
    "    size of array >= no. of characters in string + 1\n",
    "    Rule: a string in C has to be NULL terminated\n",
    "    Null character doesn't contribute to the length\n",
    "\n",
    "    char C[20] = \"Hello\"; // string gets stored in the space for array\n",
    "    \n",
    "    char *D = \"Hello\"; // string gets stored as compile time constant\n",
    "    D[0] = 'A' // ERROR \n",
    "\n",
    "    const char *C as function parameter --> allows us to read by not write\n",
    "'''\n",
    "print()"
   ]
  },
  {
   "cell_type": "code",
   "execution_count": 17,
   "id": "9fe19c43-6751-46f0-b174-ecdd97e58c15",
   "metadata": {},
   "outputs": [
    {
     "name": "stdout",
     "output_type": "stream",
     "text": [
      "Overwriting nDarrays.c\n"
     ]
    }
   ],
   "source": [
    "%%file nDarrays.c\n",
    "#include <stdio.h>\n",
    "int main() {\n",
    "\n",
    "    int B[][3] = {{1,2,3},{4,5,6}};\n",
    "    int (*p)[3] = B; // p is a pointer to a 1-D array with 3 integers.\n",
    "\n",
    "    // int* p[3] is an array of integer pointers.\n",
    "\n",
    "    printf(\"Base Address of array (p) = %p\\n\",p);\n",
    "    printf(\"size of 1-D array of 3 integers = %lu\\n\", 3*sizeof(int));\n",
    "    printf(\"Address of p+1 = %p\\n\",p+1);\n",
    "\n",
    "    return 0;\n",
    "}"
   ]
  },
  {
   "cell_type": "code",
   "execution_count": 18,
   "id": "b421cfe7-28c7-4e67-bc6e-0d37ccd5d182",
   "metadata": {},
   "outputs": [
    {
     "name": "stdout",
     "output_type": "stream",
     "text": [
      "Base Address of array (p) = 0x7ff7b02fb600\n",
      "size of 1-D array of 3 integers = 12\n",
      "Address of p+1 = 0x7ff7b02fb60c\n"
     ]
    }
   ],
   "source": [
    "%%bash\n",
    "gcc nDarrays.c -o nd\n",
    "./nd"
   ]
  },
  {
   "cell_type": "code",
   "execution_count": 23,
   "id": "0665f52f-642f-4b54-b80c-2d8842d576bd",
   "metadata": {},
   "outputs": [
    {
     "name": "stdout",
     "output_type": "stream",
     "text": [
      "\n"
     ]
    }
   ],
   "source": [
    "'''\n",
    "The type of a pointer matters not when we have to read the address but when we have to dereference\n",
    "or when we perform pointer arithmetic.\n",
    "'''\n",
    "print()"
   ]
  },
  {
   "cell_type": "code",
   "execution_count": 28,
   "id": "928c5f3c-185e-4871-97f2-fa95aa718c19",
   "metadata": {},
   "outputs": [
    {
     "name": "stdout",
     "output_type": "stream",
     "text": [
      "\n"
     ]
    }
   ],
   "source": [
    "'''\n",
    "\n",
    "int B[][3] = {{1,2,3},{4,5,6}};\n",
    "\n",
    "Array or arrays / collection of arrays\n",
    "\n",
    "Break down:\n",
    "\n",
    "consider B[i] as a variable name\n",
    "\n",
    "int B[0][] = {1,2,3}\n",
    "int B[1][] = {4,5,6}\n",
    "\n",
    "\n",
    "B/&B[0] and B+1/&B[1] are pointers to 1-D array of 3 integers\n",
    "*B/B[0]/&B[0][0] and *(B+1)/B[1]/&B[1][0] are integers pointers (pointers to the first integer of each array)\n",
    "\n",
    "Traversing the 1st array:\n",
    "\n",
    "Pointers to each integer in the 1st 1-D array of 3 integers:\n",
    "*B / B[0] / &B[0][0]\n",
    "*B+1 / B[0]+1  / &B[0][1]\n",
    "*B+2 / B[0]+2 / &B[0][2]\n",
    "\n",
    "Values in the 1st 1-D array of 3 integers:\n",
    "**B / *B[0] / B[0][0]\n",
    "*(*B+1) / *(B[0]+1) / B[0][1]\n",
    "*(*B+2) / *(B[0]+2) / B[0][2]\n",
    "\n",
    "Traversing the 2nd array:\n",
    "\n",
    "Pointers to each integer in the 2nd 1-D array of 3 integers:\n",
    "*(B+1) / B[1] / &B[1][0]\n",
    "*(B+1)+1 / B[1]+1 / &B[1][1]\n",
    "*(B+1)+2 / B[1]+2 / &B[1][2]\n",
    "\n",
    "Values in the 2nd 1-D array of 3 integers:\n",
    "**(B+1) / *B[1] / B[1][0]\n",
    "*(*(B+1)+1) / *(B[1]+1) / B[1][1]\n",
    "*(*(B+1)+2) / *(B[1]+2) / B[1][2]\n",
    "\n",
    "\n",
    "B[i][j] = *(*(B+i)+j) = *(B[i]+j)\n",
    "here B[i] is an integer pointer\n",
    "\n",
    "'''\n",
    "print()"
   ]
  },
  {
   "cell_type": "code",
   "execution_count": 31,
   "id": "6a184cae-e20e-433f-abc1-601b145c38b9",
   "metadata": {},
   "outputs": [
    {
     "name": "stdout",
     "output_type": "stream",
     "text": [
      "\n"
     ]
    }
   ],
   "source": [
    "'''\n",
    "\n",
    "int C[][2][2] = {{{2,5},{7,9}},{{3,4},{6,1}},{{0,8},{11,12}}}\n",
    "\n",
    "*(C[0][1]+1)\n",
    "*(*(C[0]+1)+1)\n",
    "*(*(*(C+0)+1)+1) // 9\n",
    "\n",
    "*(C[1]+1)\n",
    "C[1][1]\n",
    "&C[1][1][0] // 824\n",
    "\n",
    "'''\n",
    "print()"
   ]
  },
  {
   "cell_type": "code",
   "execution_count": 33,
   "id": "1188a118-1958-4a79-acfe-472b6fd668b3",
   "metadata": {},
   "outputs": [
    {
     "name": "stdout",
     "output_type": "stream",
     "text": [
      "\n"
     ]
    }
   ],
   "source": [
    "'''\n",
    "pointers can point to data or functions\n",
    "'''\n",
    "print()"
   ]
  },
  {
   "cell_type": "code",
   "execution_count": 53,
   "id": "b191c897-e70e-42c0-95fe-c4abdd3e7392",
   "metadata": {},
   "outputs": [
    {
     "name": "stdout",
     "output_type": "stream",
     "text": [
      "Overwriting functionptr.c\n"
     ]
    }
   ],
   "source": [
    "%%file functionptr.c\n",
    "#include <stdio.h>\n",
    "int add(int a, int b);\n",
    "int main() {\n",
    "\n",
    "    int (*funcPtr)(int, int) = add;\n",
    "    printf(\"Entry point to function = %p\\n\",add);\n",
    "    printf(\"Evalue of funcPtr = %p\\n\",funcPtr);\n",
    "    int res = (*funcPtr)(5,6); // funcPtr(5,6)\n",
    "    printf(\"res = %d\\n\",res);\n",
    "    return 0;\n",
    "}\n",
    "\n",
    "int add(int a, int b) {\n",
    "    return a+b;\n",
    "}"
   ]
  },
  {
   "cell_type": "code",
   "execution_count": 54,
   "id": "0c9c87e5-e551-455c-8233-d17fe1456043",
   "metadata": {},
   "outputs": [
    {
     "name": "stdout",
     "output_type": "stream",
     "text": [
      "Entry point to function = 0x10c49cf50\n",
      "Evalue of funcPtr = 0x10c49cf50\n",
      "res = 11\n"
     ]
    }
   ],
   "source": [
    "%%bash\n",
    "gcc functionptr.c -o fptr\n",
    "./fptr"
   ]
  },
  {
   "cell_type": "code",
   "execution_count": null,
   "id": "2c060995-697b-4891-895a-e3f233d8dedd",
   "metadata": {},
   "outputs": [],
   "source": []
  }
 ],
 "metadata": {
  "kernelspec": {
   "display_name": "Python 3 (ipykernel)",
   "language": "python",
   "name": "python3"
  },
  "language_info": {
   "codemirror_mode": {
    "name": "ipython",
    "version": 3
   },
   "file_extension": ".py",
   "mimetype": "text/x-python",
   "name": "python",
   "nbconvert_exporter": "python",
   "pygments_lexer": "ipython3",
   "version": "3.11.7"
  }
 },
 "nbformat": 4,
 "nbformat_minor": 5
}
