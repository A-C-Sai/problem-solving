{
 "cells": [
  {
   "cell_type": "code",
   "execution_count": null,
   "id": "eb0403c8-4aef-46d9-8adf-3fe32370ce37",
   "metadata": {},
   "outputs": [],
   "source": [
    "'''\n",
    "ternary operator - shortcut to if/else when assigning/returning a value\n",
    "                   (condition) ? value if true : value if false;\n",
    "'''"
   ]
  }
 ],
 "metadata": {
  "kernelspec": {
   "display_name": "Python 3 (ipykernel)",
   "language": "python",
   "name": "python3"
  },
  "language_info": {
   "codemirror_mode": {
    "name": "ipython",
    "version": 3
   },
   "file_extension": ".py",
   "mimetype": "text/x-python",
   "name": "python",
   "nbconvert_exporter": "python",
   "pygments_lexer": "ipython3",
   "version": "3.11.7"
  }
 },
 "nbformat": 4,
 "nbformat_minor": 5
}
